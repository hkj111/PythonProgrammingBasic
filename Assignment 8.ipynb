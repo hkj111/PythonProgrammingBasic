{
 "cells": [
  {
   "cell_type": "markdown",
   "id": "freelance-century",
   "metadata": {},
   "source": [
    "# Assignment 8"
   ]
  },
  {
   "cell_type": "markdown",
   "id": "protected-playlist",
   "metadata": {},
   "source": [
    "### 1. Write a Python Program to Add Two Matrices?\n"
   ]
  },
  {
   "cell_type": "code",
   "execution_count": 112,
   "id": "champion-capacity",
   "metadata": {},
   "outputs": [
    {
     "name": "stdout",
     "output_type": "stream",
     "text": [
      "[[2, 4, 6], [8, 10, 12], [14, 16, 18]]\n"
     ]
    }
   ],
   "source": [
    "A = [[1,2,3],\n",
    "     [4,5,6],\n",
    "     [7,8,9]]\n",
    "B = [[1,2,3],\n",
    "    [4,5,6],\n",
    "    [7,8,9]]\n",
    "C = []\n",
    "dummy=[]\n",
    "for i in range(len(A)):\n",
    "    for j in range(len(A)):\n",
    "        element = A[i][j]+B[i][j]\n",
    "        dummy.append(element)\n",
    "        if j ==2:\n",
    "            C.append(dummy)\n",
    "            dummy=[]\n",
    "            element=0\n",
    "print(C)"
   ]
  },
  {
   "cell_type": "markdown",
   "id": "fluid-companion",
   "metadata": {},
   "source": [
    "### 2. Write a Python Program to Multiply Two Matrices?\n"
   ]
  },
  {
   "cell_type": "code",
   "execution_count": 23,
   "id": "labeled-morocco",
   "metadata": {},
   "outputs": [
    {
     "name": "stdout",
     "output_type": "stream",
     "text": [
      "[[30, 36, 42], [66, 81, 96], [102, 126, 150]]\n"
     ]
    }
   ],
   "source": [
    "A = [[1,2,3],\n",
    "     [4,5,6],\n",
    "     [7,8,9]]\n",
    "B = [[1,2,3],\n",
    "    [4,5,6],\n",
    "    [7,8,9]]\n",
    "C = []\n",
    "dummy=[]\n",
    "dummy1=[]\n",
    "element = 0\n",
    "for i in range(0,len(A)):\n",
    "    for j in range(len(A)):\n",
    "        for k in range(len(A)):\n",
    "            element = A[i][k]*B[k][j]\n",
    "            dummy.append(element)\n",
    "            if k==2:\n",
    "                dummy1.append(dummy)\n",
    "                dummy=[]\n",
    "dummy=[]\n",
    "for i in range(1,len(dummy1)+1):\n",
    "    dummy.append(sum(dummy1[i-1]))\n",
    "    if i%3==0:\n",
    "        C.append(dummy)\n",
    "        dummy=[]\n",
    "print(C)\n",
    "    \n",
    "        \n",
    "        \n",
    "        "
   ]
  },
  {
   "cell_type": "markdown",
   "id": "humanitarian-catch",
   "metadata": {},
   "source": [
    "### 3. Write a Python Program to Transpose a Matrix?"
   ]
  },
  {
   "cell_type": "code",
   "execution_count": 27,
   "id": "latest-renewal",
   "metadata": {},
   "outputs": [
    {
     "name": "stdout",
     "output_type": "stream",
     "text": [
      "[[1, 4, 7], [2, 5, 8], [3, 6, 9]]\n"
     ]
    }
   ],
   "source": [
    "A = [[1,2,3],\n",
    "     [4,5,6],\n",
    "     [7,8,9]]\n",
    "AT=[]\n",
    "dummy=[]\n",
    "for i in range(len(A)):\n",
    "    for j in range(len(A)):\n",
    "        element = A[j][i]\n",
    "        dummy.append(element)\n",
    "        if j==2:\n",
    "            AT.append(dummy)\n",
    "            dummy=[]\n",
    "print(AT)\n",
    "        \n",
    "    \n"
   ]
  },
  {
   "cell_type": "markdown",
   "id": "postal-moral",
   "metadata": {},
   "source": [
    "### 4. Write a Python Program to Sort Words in Alphabetic Order?\n"
   ]
  },
  {
   "cell_type": "code",
   "execution_count": 54,
   "id": "guided-difficulty",
   "metadata": {},
   "outputs": [
    {
     "name": "stdout",
     "output_type": "stream",
     "text": [
      "If it is asked for words in list\n",
      "['harsh', 'harshita', 'jangir', 'kumar']\n",
      " If asked for Sorted each string alphabetically while removing duplicate characters\n",
      "['a', 'g', 'h', 'i', 'j', 'k', 'm', 'n', 'r', 's', 't', 'u']\n"
     ]
    }
   ],
   "source": [
    "l=[\"harsh\",\"kumar\",\"jangir\",\"harshita\"]\n",
    "l.sort()\n",
    "print(\"If it is asked for words in list\")\n",
    "print(l)\n",
    "dummy=[]\n",
    "for i in l:\n",
    "    for j in i:\n",
    "        dummy.append(j)\n",
    "dummy=set(dummy)\n",
    "dummy=list(dummy)\n",
    "print(\" If asked for Sorted each string alphabetically while removing duplicate characters\")\n",
    "print(sorted(dummy))\n",
    "\n",
    "\n",
    "    "
   ]
  },
  {
   "cell_type": "markdown",
   "id": "electoral-trustee",
   "metadata": {},
   "source": [
    "### 5. Write a Python Program to Remove Punctuation From a String?"
   ]
  },
  {
   "cell_type": "code",
   "execution_count": 61,
   "id": "creative-rough",
   "metadata": {},
   "outputs": [
    {
     "name": "stdout",
     "output_type": "stream",
     "text": [
      "We are going to remove these puntuation:  [',', '?', \"'\", '\"', '.', ';', ':']\n",
      "harshkjangir\n"
     ]
    }
   ],
   "source": [
    "puntuation = [\",\",\"?\",\"'\",'\"',\".\",\";\",\":\"]\n",
    "print(\"We are going to remove these puntuation: \",puntuation)\n",
    "s=\"harsh.k.;',jangir\"\n",
    "for i in range(len(puntuation)):\n",
    "    s=s.replace(puntuation[i],\"\")\n",
    "print(s)"
   ]
  }
 ],
 "metadata": {
  "kernelspec": {
   "display_name": "Python 3",
   "language": "python",
   "name": "python3"
  },
  "language_info": {
   "codemirror_mode": {
    "name": "ipython",
    "version": 3
   },
   "file_extension": ".py",
   "mimetype": "text/x-python",
   "name": "python",
   "nbconvert_exporter": "python",
   "pygments_lexer": "ipython3",
   "version": "3.7.9"
  }
 },
 "nbformat": 4,
 "nbformat_minor": 5
}
