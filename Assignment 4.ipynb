{
 "cells": [
  {
   "cell_type": "markdown",
   "id": "celtic-hotel",
   "metadata": {},
   "source": [
    "# Assignment 4\n",
    "## Harsh Kumar Jangir\n",
    "## harshkumarjangir2014@gmail.com\n",
    "## 21-03-2021"
   ]
  },
  {
   "cell_type": "markdown",
   "id": "compliant-event",
   "metadata": {},
   "source": [
    "### 1. Write a Python Program to Find the Factorial of a Number?"
   ]
  },
  {
   "cell_type": "code",
   "execution_count": 5,
   "id": "overhead-financing",
   "metadata": {},
   "outputs": [
    {
     "name": "stdout",
     "output_type": "stream",
     "text": [
      "Enter a number 5\n",
      "Factorial : 120\n"
     ]
    }
   ],
   "source": [
    "n = int(input(\"Enter a number \"))\n",
    "fact =1\n",
    "for i in range(1,n+1):\n",
    "    fact = fact*i\n",
    "print(\"Factorial :\",fact)"
   ]
  },
  {
   "cell_type": "markdown",
   "id": "first-precipitation",
   "metadata": {},
   "source": [
    "### 2. Write a Python Program to Display the multiplication Table?"
   ]
  },
  {
   "cell_type": "code",
   "execution_count": 8,
   "id": "unnecessary-intellectual",
   "metadata": {},
   "outputs": [
    {
     "name": "stdout",
     "output_type": "stream",
     "text": [
      "Enter a number 10\n",
      "Multiplication table of  10\n",
      "10 X 1 = 10\n",
      "10 X 2 = 20\n",
      "10 X 3 = 30\n",
      "10 X 4 = 40\n",
      "10 X 5 = 50\n",
      "10 X 6 = 60\n",
      "10 X 7 = 70\n",
      "10 X 8 = 80\n",
      "10 X 9 = 90\n",
      "10 X 10 = 100\n"
     ]
    }
   ],
   "source": [
    "n = int(input(\"Enter a number \"))\n",
    "print(\"Multiplication table of \",n)\n",
    "for i in range(1,11):\n",
    "    print(\"{} X {} = {}\".format(str(n),str(i),str(n*i)) )\n"
   ]
  },
  {
   "cell_type": "markdown",
   "id": "single-processor",
   "metadata": {},
   "source": [
    "### 3. Write a Python Program to Print the Fibonacci sequence?"
   ]
  },
  {
   "cell_type": "code",
   "execution_count": 15,
   "id": "described-illustration",
   "metadata": {},
   "outputs": [
    {
     "name": "stdout",
     "output_type": "stream",
     "text": [
      "How many terms: 7\n",
      "0\n",
      "1\n",
      "1\n",
      "2\n",
      "3\n",
      "5\n",
      "8\n"
     ]
    }
   ],
   "source": [
    "a=0\n",
    "b=1\n",
    "c=1\n",
    "\n",
    "n = int(input(\"How many terms: \"))\n",
    "print(a)\n",
    "print(b)\n",
    "print(c)\n",
    "for i in range(3,n):\n",
    "    a=b\n",
    "    b=c\n",
    "    c=a+b\n",
    "    print(c)\n",
    "    "
   ]
  },
  {
   "cell_type": "markdown",
   "id": "religious-calcium",
   "metadata": {},
   "source": [
    "### 4. Write a Python Program to Check Armstrong Number?"
   ]
  },
  {
   "cell_type": "code",
   "execution_count": 25,
   "id": "timely-profession",
   "metadata": {},
   "outputs": [
    {
     "name": "stdout",
     "output_type": "stream",
     "text": [
      "Enter a number: 153\n",
      "Number is armstrong\n"
     ]
    }
   ],
   "source": [
    "n = input(\"Enter a number: \")\n",
    "sum=0\n",
    "for i in n:\n",
    "    a = int(i)\n",
    "    sum=sum+a**3\n",
    "if sum==int(n):\n",
    "    print(\"Number is armstrong\")\n",
    "else:\n",
    "    print(\"Number is not armstrong\")\n",
    "    "
   ]
  },
  {
   "cell_type": "markdown",
   "id": "smooth-intellectual",
   "metadata": {},
   "source": [
    "### 5. Write a Python Program to Find Armstrong Number in an Interval?"
   ]
  },
  {
   "cell_type": "code",
   "execution_count": 52,
   "id": "irish-father",
   "metadata": {
    "scrolled": false
   },
   "outputs": [
    {
     "name": "stdout",
     "output_type": "stream",
     "text": [
      "Enter the lowerbound: 1\n",
      "Enter the upperbound: 1000\n",
      "Armstrong numbers:  ['1', '153', '370', '371', '407']\n"
     ]
    }
   ],
   "source": [
    "lowerbound = int(input(\"Enter the lowerbound: \"))\n",
    "upperbound = int(input(\"Enter the upperbound: \"))\n",
    "armstrong=[]\n",
    "for j in range(lowerbound,upperbound+1):\n",
    "    sum=0\n",
    "    n=str(j)\n",
    "    for i in n:\n",
    "        a = int(i)\n",
    "        sum=sum+a**3\n",
    "        \n",
    "    if sum==int(n):\n",
    "        armstrong.append(n)\n",
    "    \n",
    "if len(armstrong)==0:\n",
    "    print(\"No armstrong number between the interval\")\n",
    "else:\n",
    "    print(\"Armstrong numbers: \",armstrong)"
   ]
  },
  {
   "cell_type": "markdown",
   "id": "viral-texture",
   "metadata": {},
   "source": [
    "### 6. Write a Python Program to Find the Sum of Natural Numbers?"
   ]
  },
  {
   "cell_type": "code",
   "execution_count": 53,
   "id": "portuguese-bottle",
   "metadata": {},
   "outputs": [
    {
     "name": "stdout",
     "output_type": "stream",
     "text": [
      "Enter the terms: 10\n",
      "Sum is  55\n"
     ]
    }
   ],
   "source": [
    "n = int(input(\"Enter the terms: \"))\n",
    "sum=0\n",
    "for i in range(1,n+1):\n",
    "    sum+=i\n",
    "print(\"Sum is \",sum)\n",
    "    "
   ]
  }
 ],
 "metadata": {
  "kernelspec": {
   "display_name": "Python 3",
   "language": "python",
   "name": "python3"
  },
  "language_info": {
   "codemirror_mode": {
    "name": "ipython",
    "version": 3
   },
   "file_extension": ".py",
   "mimetype": "text/x-python",
   "name": "python",
   "nbconvert_exporter": "python",
   "pygments_lexer": "ipython3",
   "version": "3.7.9"
  }
 },
 "nbformat": 4,
 "nbformat_minor": 5
}
