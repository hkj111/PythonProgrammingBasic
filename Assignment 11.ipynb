{
 "cells": [
  {
   "cell_type": "markdown",
   "id": "second-qualification",
   "metadata": {},
   "source": [
    "# Assignment 11"
   ]
  },
  {
   "cell_type": "markdown",
   "id": "sophisticated-saskatchewan",
   "metadata": {},
   "source": [
    "## 1. Write a Python program to find words which are greater than given length k?\n"
   ]
  },
  {
   "cell_type": "code",
   "execution_count": 1,
   "id": "compound-error",
   "metadata": {},
   "outputs": [
    {
     "name": "stdout",
     "output_type": "stream",
     "text": [
      "Enter the length: 15\n",
      "askfbasdjhfbajhfbadfjhd\n"
     ]
    }
   ],
   "source": [
    "k=int(input(\"Enter the length: \"))\n",
    "l=[\"Harsh\",\"Kumar\",\"Jangir\",\"afhasjkfbasjkfa\",\"askfbasdjhfbajhfbadfjhd\"]\n",
    "for i in l:\n",
    "    if len(i)>k:\n",
    "        print(i)"
   ]
  },
  {
   "cell_type": "markdown",
   "id": "small-warrant",
   "metadata": {},
   "source": [
    "## 2. Write a Python program for removing i-th character from a string?\n"
   ]
  },
  {
   "cell_type": "code",
   "execution_count": 4,
   "id": "regional-shepherd",
   "metadata": {},
   "outputs": [
    {
     "name": "stdout",
     "output_type": "stream",
     "text": [
      "HarhKumar\n"
     ]
    }
   ],
   "source": [
    "s=\"HarshKumar\"\n",
    "i = 4\n",
    "\n",
    "print(s.replace(s[i-1],\"\"))"
   ]
  },
  {
   "cell_type": "markdown",
   "id": "hybrid-grill",
   "metadata": {},
   "source": [
    "## 3. Write a Python program to split and join a string?\n"
   ]
  },
  {
   "cell_type": "code",
   "execution_count": 3,
   "id": "informational-authentication",
   "metadata": {},
   "outputs": [
    {
     "name": "stdout",
     "output_type": "stream",
     "text": [
      "['H', 'a', 'r', 's', 'h', 'K', 'u', 'm', 'a', 'r']\n",
      "HarshKumar\n"
     ]
    }
   ],
   "source": [
    "s=\"HarshKumar\"\n",
    "dummy=[]\n",
    "s1=\"\"\n",
    "for i in s:\n",
    "    dummy.append(i)\n",
    "print(dummy)\n",
    "\n",
    "for i in dummy:\n",
    "    s1=s1+i\n",
    "print(s)"
   ]
  },
  {
   "cell_type": "markdown",
   "id": "severe-partner",
   "metadata": {},
   "source": [
    "## 4. Write a Python to check if a given string is binary string or not?\n"
   ]
  },
  {
   "cell_type": "code",
   "execution_count": 4,
   "id": "logical-failure",
   "metadata": {},
   "outputs": [
    {
     "name": "stdout",
     "output_type": "stream",
     "text": [
      "It is a binary String\n"
     ]
    }
   ],
   "source": [
    "s=\"110001\"\n",
    "flag=0\n",
    "for i in s:\n",
    "    try:\n",
    "        if int(i)==0 or int(i)==1:\n",
    "            flag = flag+1\n",
    "    except:\n",
    "        print(\"It is not a binary String\")\n",
    "if flag == len(s):\n",
    "    print(\"It is a binary String\")"
   ]
  },
  {
   "cell_type": "markdown",
   "id": "positive-passage",
   "metadata": {},
   "source": [
    "## 5. Write a Python program to find uncommon words from two Strings?\n"
   ]
  },
  {
   "cell_type": "code",
   "execution_count": 24,
   "id": "foster-destination",
   "metadata": {},
   "outputs": [
    {
     "data": {
      "text/plain": [
       "['Jangir', 'Hello', 'School']"
      ]
     },
     "execution_count": 24,
     "metadata": {},
     "output_type": "execute_result"
    }
   ],
   "source": [
    "s1=\"Harsh Kumar Jangir Hello\"\n",
    "s2=\"Kumar Harsh School\"\n",
    "\n",
    "dummy=s1.split()\n",
    "dummy1 = s2.split()\n",
    "dummy=set(dummy)\n",
    "dummy1=set(dummy1)\n",
    "lis=[]\n",
    "lis = list(dummy-dummy1) + list(dummy1-dummy)\n",
    "lis\n",
    "\n",
    "        \n"
   ]
  },
  {
   "cell_type": "markdown",
   "id": "looking-sharing",
   "metadata": {},
   "source": [
    "## 6. Write a Python to find all duplicate characters in string?\n"
   ]
  },
  {
   "cell_type": "code",
   "execution_count": 28,
   "id": "experimental-fetish",
   "metadata": {},
   "outputs": [
    {
     "data": {
      "text/plain": [
       "['H', 'a', 'r', 'l']"
      ]
     },
     "execution_count": 28,
     "metadata": {},
     "output_type": "execute_result"
    }
   ],
   "source": [
    "s1=\"Harsh Kumar Jangir Hello\"\n",
    "final=[]\n",
    "for i in s1:\n",
    "    if s1.count(i)>1 and i!=\" \":\n",
    "        if i not in final:\n",
    "            final.append(i)\n",
    "final"
   ]
  },
  {
   "cell_type": "markdown",
   "id": "twelve-company",
   "metadata": {},
   "source": [
    "## 7. Write a Python Program to check if a string contains any special character?"
   ]
  },
  {
   "cell_type": "code",
   "execution_count": 29,
   "id": "saving-snapshot",
   "metadata": {},
   "outputs": [
    {
     "name": "stdout",
     "output_type": "stream",
     "text": [
      "String contains special character\n"
     ]
    }
   ],
   "source": [
    "special=[\"!\",\"@\",\"#\",\"$\",\"%\",\"^\",\"&\",\"*\",\"(\",\")\",\";\",\":\",\",\",\"<\",\">\",\".\",\"/\",\"'\",\"\\\"\",\"[\",\"]\",\"{\",\"}\"]\n",
    "\n",
    "s=\"Harsh#\"\n",
    "\n",
    "for i in s:\n",
    "    if i in special:\n",
    "        print(\"String contains special character\")"
   ]
  }
 ],
 "metadata": {
  "kernelspec": {
   "display_name": "Python 3",
   "language": "python",
   "name": "python3"
  },
  "language_info": {
   "codemirror_mode": {
    "name": "ipython",
    "version": 3
   },
   "file_extension": ".py",
   "mimetype": "text/x-python",
   "name": "python",
   "nbconvert_exporter": "python",
   "pygments_lexer": "ipython3",
   "version": "3.7.9"
  }
 },
 "nbformat": 4,
 "nbformat_minor": 5
}
