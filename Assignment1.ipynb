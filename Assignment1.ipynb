{
 "cells": [
  {
   "cell_type": "markdown",
   "id": "inner-surrey",
   "metadata": {},
   "source": [
    "# Assignment 1\n",
    "## Harsh Kumar Jangir\n",
    "## harshkumarjangir2014@gmail.com\n",
    "## 20-03-2021"
   ]
  },
  {
   "cell_type": "markdown",
   "id": "vital-serve",
   "metadata": {},
   "source": [
    "### 1. Write a Python program to print \"Hello Python\"?\n"
   ]
  },
  {
   "cell_type": "code",
   "execution_count": 1,
   "id": "portuguese-break",
   "metadata": {},
   "outputs": [
    {
     "name": "stdout",
     "output_type": "stream",
     "text": [
      "Hello Python\n"
     ]
    }
   ],
   "source": [
    "print(\"Hello Python\")"
   ]
  },
  {
   "cell_type": "markdown",
   "id": "worthy-prediction",
   "metadata": {},
   "source": [
    "### 2. Write a Python program to do arithmetical operations addition and division.?\n"
   ]
  },
  {
   "cell_type": "code",
   "execution_count": 7,
   "id": "minute-karen",
   "metadata": {},
   "outputs": [
    {
     "name": "stdout",
     "output_type": "stream",
     "text": [
      "Enter numbers \n",
      "a = 4\n",
      "b = 8\n",
      "Addition of a and b is 12\n",
      "Division of a and b is 0.5\n"
     ]
    }
   ],
   "source": [
    "print(\"Enter numbers \")\n",
    "a = int(input(\"a = \"))\n",
    "b = int(input(\"b = \"))\n",
    "\n",
    "print(\"Addition of a and b is {}\".format(str(a+b)))\n",
    "print(\"Division of a and b is {}\".format(str(a/b)))"
   ]
  },
  {
   "cell_type": "markdown",
   "id": "technical-pickup",
   "metadata": {},
   "source": [
    "### 3. Write a Python program to find the area of a triangle?\n"
   ]
  },
  {
   "cell_type": "code",
   "execution_count": 8,
   "id": "cognitive-catering",
   "metadata": {},
   "outputs": [
    {
     "name": "stdout",
     "output_type": "stream",
     "text": [
      "Enter three sides of triangle\n",
      "a = 3\n",
      "b = 4\n",
      "c = 5\n",
      "Area of triangle 6.0\n"
     ]
    }
   ],
   "source": [
    "print(\"Enter three sides of triangle\")\n",
    "a = int(input(\"a = \"))\n",
    "b = int(input(\"b = \"))\n",
    "c = int(input(\"c = \"))\n",
    "\n",
    "s=(a+b+c)/2\n",
    "print(\"Area of triangle {}\".format(str((s*(s-a)*(s-b)*(s-c)) ** 0.5)))"
   ]
  },
  {
   "cell_type": "markdown",
   "id": "interim-perfume",
   "metadata": {},
   "source": [
    "### 4. Write a Python program to swap two variables?\n"
   ]
  },
  {
   "cell_type": "code",
   "execution_count": 11,
   "id": "favorite-domain",
   "metadata": {},
   "outputs": [
    {
     "name": "stdout",
     "output_type": "stream",
     "text": [
      "Enter the value of two variables\n",
      "var1 = 3\n",
      "var2 = 4\n",
      "Value of variable before swapping var1 = 3 and var2 = 4 \n",
      "Value of variable After swapping var1 = 4 and var2 = 3 \n"
     ]
    }
   ],
   "source": [
    "print(\"Enter the value of two variables\")\n",
    "var1 = int(input(\"var1 = \"))\n",
    "var2 = int(input(\"var2 = \"))\n",
    "print(\"Value of variable before swapping var1 = {} and var2 = {} \".format(str(var1),str(var2)))\n",
    "dummy=0\n",
    "dummy=var1\n",
    "var1=var2\n",
    "var2=dummy\n",
    "print(\"Value of variable After swapping var1 = {} and var2 = {} \".format(str(var1),str(var2)))"
   ]
  },
  {
   "cell_type": "markdown",
   "id": "played-sweden",
   "metadata": {},
   "source": [
    "### 5. Write a Python program to generate a random number?"
   ]
  },
  {
   "cell_type": "code",
   "execution_count": 13,
   "id": "balanced-grace",
   "metadata": {},
   "outputs": [
    {
     "name": "stdout",
     "output_type": "stream",
     "text": [
      "Enter the range in which you want to generate a random number\n",
      "lowerbound = 0\n",
      "Upperbound = 10000\n",
      "Random number between 0 and 10000 is 1768\n"
     ]
    }
   ],
   "source": [
    "import random\n",
    "print(\"Enter the range in which you want to generate a random number\")\n",
    "lowerbound = int(input(\"lowerbound = \"))\n",
    "Upperbound = int(input(\"Upperbound = \"))\n",
    "\n",
    "print(\"Random number between {} and {} is {}\".format(str(lowerbound),str(Upperbound),str(random.randint(lowerbound,Upperbound))))"
   ]
  },
  {
   "cell_type": "code",
   "execution_count": null,
   "id": "practical-sixth",
   "metadata": {},
   "outputs": [],
   "source": []
  }
 ],
 "metadata": {
  "kernelspec": {
   "display_name": "Python 3",
   "language": "python",
   "name": "python3"
  }
 },
 "nbformat": 4,
 "nbformat_minor": 5
}
