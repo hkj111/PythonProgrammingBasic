{
 "cells": [
  {
   "cell_type": "markdown",
   "id": "normal-float",
   "metadata": {},
   "source": [
    "# Assignment 7"
   ]
  },
  {
   "cell_type": "markdown",
   "id": "floppy-plain",
   "metadata": {},
   "source": [
    "### 1. Write a Python Program to find sum of array?\n"
   ]
  },
  {
   "cell_type": "code",
   "execution_count": 6,
   "id": "prime-soundtrack",
   "metadata": {},
   "outputs": [
    {
     "name": "stdout",
     "output_type": "stream",
     "text": [
      "10\n"
     ]
    }
   ],
   "source": [
    "def asum(arr):\n",
    "    sums = sum(arr)\n",
    "    return print(sums)\n",
    "asum([1,2,3,4])"
   ]
  },
  {
   "cell_type": "markdown",
   "id": "theoretical-pakistan",
   "metadata": {},
   "source": [
    "### 2. Write a Python Program to find largest element in an array?\n"
   ]
  },
  {
   "cell_type": "code",
   "execution_count": 4,
   "id": "distributed-thomas",
   "metadata": {},
   "outputs": [
    {
     "name": "stdout",
     "output_type": "stream",
     "text": [
      "4\n"
     ]
    }
   ],
   "source": [
    "def larg(arr):\n",
    "    sums = max(arr)\n",
    "    return print(sums)\n",
    "larg([1,2,3,4])"
   ]
  },
  {
   "cell_type": "markdown",
   "id": "necessary-lancaster",
   "metadata": {},
   "source": [
    "### 3. Write a Python Program for array rotation?\n"
   ]
  },
  {
   "cell_type": "code",
   "execution_count": 50,
   "id": "departmental-appendix",
   "metadata": {},
   "outputs": [
    {
     "name": "stdout",
     "output_type": "stream",
     "text": [
      "Left rotated array:   [3, 2, 1, 2]\n"
     ]
    }
   ],
   "source": [
    "arr=[2,3,2,1]\n",
    "dum=arr[0]\n",
    "arr.pop(0)\n",
    "arr.append(dum)\n",
    "print(\"Left rotated array:  \",arr)"
   ]
  },
  {
   "cell_type": "markdown",
   "id": "legal-reflection",
   "metadata": {},
   "source": [
    "### 4. Write a Python Program to Split the array and add the first part to the end?\n"
   ]
  },
  {
   "cell_type": "code",
   "execution_count": 24,
   "id": "specified-maria",
   "metadata": {},
   "outputs": [
    {
     "name": "stdout",
     "output_type": "stream",
     "text": [
      "[3, 4, 1, 2]\n"
     ]
    }
   ],
   "source": [
    "dum1=[]\n",
    "dum2=[]\n",
    "final=[]\n",
    "arr = [1,2,3,4]\n",
    "dum1 = arr[0:(len(arr)//2)]\n",
    "dum2 = arr[(len(arr)//2):len(arr)+1]\n",
    "final = dum2+dum1\n",
    "\n",
    "print(final)\n",
    "\n",
    "    "
   ]
  },
  {
   "cell_type": "markdown",
   "id": "tested-speech",
   "metadata": {},
   "source": [
    "### 5. Write a Python Program to check if given array is Monotonic?\n"
   ]
  },
  {
   "cell_type": "code",
   "execution_count": 49,
   "id": "explicit-junior",
   "metadata": {},
   "outputs": [
    {
     "name": "stdout",
     "output_type": "stream",
     "text": [
      "Array is monotonic decreasing\n"
     ]
    }
   ],
   "source": [
    "arr=[4,3,2,6,1]\n",
    "count = len(arr)-1\n",
    "count1=0\n",
    "for i in range(0,len(arr)-1):\n",
    "    if arr[i] < arr[i+1]:\n",
    "        count = count-1\n",
    "    elif arr[i]> arr[i+1]:\n",
    "        count1+=1\n",
    "if count==0:\n",
    "    print(\"Array is monotonic increasing\")\n",
    "elif count ==(len(arr)-1):\n",
    "    print(\"Array is monotonic decreasing\")\n",
    "else:\n",
    "    print(\"Array is not monotonic\")\n",
    "    "
   ]
  }
 ],
 "metadata": {
  "kernelspec": {
   "display_name": "Python 3",
   "language": "python",
   "name": "python3"
  },
  "language_info": {
   "codemirror_mode": {
    "name": "ipython",
    "version": 3
   },
   "file_extension": ".py",
   "mimetype": "text/x-python",
   "name": "python",
   "nbconvert_exporter": "python",
   "pygments_lexer": "ipython3",
   "version": "3.7.9"
  }
 },
 "nbformat": 4,
 "nbformat_minor": 5
}
