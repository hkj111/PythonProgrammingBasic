{
 "cells": [
  {
   "cell_type": "markdown",
   "id": "multiple-silly",
   "metadata": {},
   "source": [
    "# Assignment 9"
   ]
  },
  {
   "cell_type": "markdown",
   "id": "prime-stability",
   "metadata": {},
   "source": [
    "### 1. Write a Python program to check if the given number is a Disarium Number?\n"
   ]
  },
  {
   "cell_type": "code",
   "execution_count": 6,
   "id": "stone-parish",
   "metadata": {},
   "outputs": [
    {
     "name": "stdout",
     "output_type": "stream",
     "text": [
      "PLease enter a number: 175\n",
      "Disarium Number\n",
      "175\n"
     ]
    }
   ],
   "source": [
    "n=input(\"PLease enter a number: \")\n",
    "s=0\n",
    "for i in range(1,len(n)+1):\n",
    "    num=n[i-1]\n",
    "    s = s + int(num)**i\n",
    "\n",
    "if s == int(n):\n",
    "    print(\"Disarium Number\")\n",
    "else:\n",
    "    print(\"Not a Disarium Number\")"
   ]
  },
  {
   "cell_type": "markdown",
   "id": "aware-tuition",
   "metadata": {},
   "source": [
    "### 2. Write a Python program to print all disarium numbers between 1 to 100?\n"
   ]
  },
  {
   "cell_type": "code",
   "execution_count": 7,
   "id": "significant-drive",
   "metadata": {},
   "outputs": [
    {
     "name": "stdout",
     "output_type": "stream",
     "text": [
      "Disarium Number:  1\n",
      "Disarium Number:  2\n",
      "Disarium Number:  3\n",
      "Disarium Number:  4\n",
      "Disarium Number:  5\n",
      "Disarium Number:  6\n",
      "Disarium Number:  7\n",
      "Disarium Number:  8\n",
      "Disarium Number:  9\n",
      "Disarium Number:  89\n"
     ]
    }
   ],
   "source": [
    "for n in range(1,101):\n",
    "    s=0\n",
    "    n=str(n)\n",
    "    for i in range(1,len(n)+1):\n",
    "        num=n[i-1]\n",
    "        s = s + int(num)**i\n",
    "\n",
    "    if s == int(n):\n",
    "        print(\"Disarium Number: \",n)\n",
    "    "
   ]
  },
  {
   "cell_type": "markdown",
   "id": "scenic-dayton",
   "metadata": {},
   "source": [
    "### 3. Write a Python program to check if the given number is Happy Number?\n"
   ]
  },
  {
   "cell_type": "code",
   "execution_count": 8,
   "id": "intended-netscape",
   "metadata": {},
   "outputs": [
    {
     "name": "stdout",
     "output_type": "stream",
     "text": [
      "happy number 10\n"
     ]
    }
   ],
   "source": [
    "n = \"10\"\n",
    "\n",
    "def happynumber(n1):\n",
    "    s=0\n",
    "    for i in n1:\n",
    "        s = s+int(i)**2\n",
    "    if s==1:\n",
    "        print(\"happy number\",n)\n",
    "    elif s==4:\n",
    "        print(\"Unhappy number\")\n",
    "        return\n",
    "    else:\n",
    "        happynumber(str(s))\n",
    "happynumber(n)"
   ]
  },
  {
   "cell_type": "markdown",
   "id": "productive-religion",
   "metadata": {},
   "source": [
    "### 4. Write a Python program to print all happy numbers between 1 and 100?\n"
   ]
  },
  {
   "cell_type": "code",
   "execution_count": 7,
   "id": "wooden-recall",
   "metadata": {
    "scrolled": true
   },
   "outputs": [
    {
     "name": "stdout",
     "output_type": "stream",
     "text": [
      "Happy Number 1\n",
      "Happy Number 7\n",
      "Happy Number 10\n",
      "Happy Number 13\n",
      "Happy Number 19\n",
      "Happy Number 23\n",
      "Happy Number 28\n",
      "Happy Number 31\n",
      "Happy Number 32\n",
      "Happy Number 44\n",
      "Happy Number 49\n",
      "Happy Number 68\n",
      "Happy Number 70\n",
      "Happy Number 79\n",
      "Happy Number 82\n",
      "Happy Number 86\n",
      "Happy Number 91\n",
      "Happy Number 94\n",
      "Happy Number 97\n",
      "Happy Number 100\n"
     ]
    }
   ],
   "source": [
    "\n",
    "\n",
    "def happynumber(n1):\n",
    "    s=0\n",
    "    for i in n1:\n",
    "        s = s+int(i)**2\n",
    "    if s==1:\n",
    "        print(\"Happy Number\",n)\n",
    "    elif s==4:\n",
    "        return\n",
    "    else:\n",
    "        happynumber(str(s))\n",
    "        \n",
    "for n in range(1,101):\n",
    "    happynumber(str(n))\n",
    "    "
   ]
  },
  {
   "cell_type": "markdown",
   "id": "lesser-accountability",
   "metadata": {},
   "source": [
    "### 5. Write a Python program to determine whether the given number is a Harshad Number?\n"
   ]
  },
  {
   "cell_type": "code",
   "execution_count": 5,
   "id": "conventional-mainstream",
   "metadata": {},
   "outputs": [
    {
     "name": "stdout",
     "output_type": "stream",
     "text": [
      "Enter a number: 11\n",
      "Not a Harshad Number\n"
     ]
    }
   ],
   "source": [
    "n = input(\"Enter a number: \")\n",
    "s=0\n",
    "for i in n:\n",
    "    s=s+int(i)\n",
    "if int(n)%s==0:\n",
    "    print(\"Harshad Number: \",n)\n",
    "else:\n",
    "    print(\"Not a Harshad Number\")\n",
    "\n",
    "    "
   ]
  },
  {
   "cell_type": "markdown",
   "id": "adverse-robin",
   "metadata": {},
   "source": [
    "### 6. Write a Python program to print all pronic numbers between 1 and 100?"
   ]
  },
  {
   "cell_type": "code",
   "execution_count": 11,
   "id": "environmental-antigua",
   "metadata": {},
   "outputs": [
    {
     "name": "stdout",
     "output_type": "stream",
     "text": [
      "Pronic number:  2\n",
      "Pronic number:  6\n",
      "Pronic number:  12\n",
      "Pronic number:  20\n",
      "Pronic number:  30\n",
      "Pronic number:  42\n",
      "Pronic number:  56\n",
      "Pronic number:  72\n",
      "Pronic number:  90\n"
     ]
    }
   ],
   "source": [
    "for i in range(1,101):\n",
    "    if i==2:\n",
    "            print(\"Pronic number: \",i)\n",
    "    for j in range(2,i):\n",
    "        if i%j==0:\n",
    "            s=i//j\n",
    "            if s*(s+1)==i:\n",
    "                print(\"Pronic number: \",i)\n",
    "        \n",
    "        "
   ]
  }
 ],
 "metadata": {
  "kernelspec": {
   "display_name": "Python 3",
   "language": "python",
   "name": "python3"
  },
  "language_info": {
   "codemirror_mode": {
    "name": "ipython",
    "version": 3
   },
   "file_extension": ".py",
   "mimetype": "text/x-python",
   "name": "python",
   "nbconvert_exporter": "python",
   "pygments_lexer": "ipython3",
   "version": "3.7.9"
  }
 },
 "nbformat": 4,
 "nbformat_minor": 5
}
