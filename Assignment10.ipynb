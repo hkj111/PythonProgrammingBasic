{
 "cells": [
  {
   "cell_type": "markdown",
   "id": "exterior-greeting",
   "metadata": {},
   "source": [
    "# Assignment 10"
   ]
  },
  {
   "cell_type": "markdown",
   "id": "outstanding-technician",
   "metadata": {},
   "source": [
    "## 1.\tWrite a Python program to find sum of elements in list?\n"
   ]
  },
  {
   "cell_type": "code",
   "execution_count": 4,
   "id": "whole-antarctica",
   "metadata": {},
   "outputs": [
    {
     "name": "stdout",
     "output_type": "stream",
     "text": [
      "10\n"
     ]
    }
   ],
   "source": [
    "list = [1,2,3,4]\n",
    "print(sum(list))\n"
   ]
  },
  {
   "cell_type": "markdown",
   "id": "clean-discharge",
   "metadata": {},
   "source": [
    "## 2.\tWrite a Python program to  Multiply all numbers in the list?\n"
   ]
  },
  {
   "cell_type": "code",
   "execution_count": 7,
   "id": "functional-gentleman",
   "metadata": {},
   "outputs": [
    {
     "name": "stdout",
     "output_type": "stream",
     "text": [
      "24\n"
     ]
    }
   ],
   "source": [
    "list = [1,2,3,4]\n",
    "mul=1\n",
    "for i in list:\n",
    "    mul = mul*i\n",
    "print(mul)"
   ]
  },
  {
   "cell_type": "markdown",
   "id": "possible-documentary",
   "metadata": {},
   "source": [
    "## 3.\tWrite a Python program to find smallest number in a list?\n"
   ]
  },
  {
   "cell_type": "code",
   "execution_count": 9,
   "id": "directed-longitude",
   "metadata": {},
   "outputs": [
    {
     "data": {
      "text/plain": [
       "2"
      ]
     },
     "execution_count": 9,
     "metadata": {},
     "output_type": "execute_result"
    }
   ],
   "source": [
    "list=[10,2,3,4]\n",
    "min(list)"
   ]
  },
  {
   "cell_type": "markdown",
   "id": "outstanding-latvia",
   "metadata": {},
   "source": [
    "## 4.\tWrite a Python program to find largest number in a list?\n"
   ]
  },
  {
   "cell_type": "code",
   "execution_count": 10,
   "id": "occupied-protein",
   "metadata": {},
   "outputs": [
    {
     "data": {
      "text/plain": [
       "10"
      ]
     },
     "execution_count": 10,
     "metadata": {},
     "output_type": "execute_result"
    }
   ],
   "source": [
    "list=[10,2,3,4]\n",
    "max(list)"
   ]
  },
  {
   "cell_type": "markdown",
   "id": "dynamic-bride",
   "metadata": {},
   "source": [
    "## 5.\tWrite a Python program to find second largest number in a list?\n"
   ]
  },
  {
   "cell_type": "code",
   "execution_count": 17,
   "id": "considerable-certification",
   "metadata": {},
   "outputs": [
    {
     "data": {
      "text/plain": [
       "40"
      ]
     },
     "execution_count": 17,
     "metadata": {},
     "output_type": "execute_result"
    }
   ],
   "source": [
    "list=[10,40,30,50]\n",
    "dummy = sorted(list)\n",
    "dummy[-2]\n"
   ]
  },
  {
   "cell_type": "markdown",
   "id": "satisfied-asian",
   "metadata": {},
   "source": [
    "## 6.\tWrite a Python program to find N largest elements from a list?\n"
   ]
  },
  {
   "cell_type": "code",
   "execution_count": 22,
   "id": "alleged-exchange",
   "metadata": {},
   "outputs": [
    {
     "data": {
      "text/plain": [
       "[45, 50, 56]"
      ]
     },
     "execution_count": 22,
     "metadata": {},
     "output_type": "execute_result"
    }
   ],
   "source": [
    "list=[10,40,30,50,1,2,3,4,25,45,56,67,43,21]\n",
    "dummy = sorted(list)\n",
    "n=3\n",
    "dummy[-n-1:-1]"
   ]
  },
  {
   "cell_type": "markdown",
   "id": "cognitive-heading",
   "metadata": {},
   "source": [
    "## 7.\tWrite a Python program to print even numbers in a list?\n"
   ]
  },
  {
   "cell_type": "code",
   "execution_count": 23,
   "id": "forced-knitting",
   "metadata": {},
   "outputs": [
    {
     "name": "stdout",
     "output_type": "stream",
     "text": [
      "10\n",
      "40\n",
      "30\n",
      "50\n",
      "2\n",
      "4\n",
      "56\n"
     ]
    }
   ],
   "source": [
    "list=[10,40,30,50,1,2,3,4,25,45,56,67,43,21]\n",
    "for i in list:\n",
    "    if i%2==0:\n",
    "        print(i)"
   ]
  },
  {
   "cell_type": "markdown",
   "id": "pediatric-harbor",
   "metadata": {},
   "source": [
    "## 8.\tWrite a Python program to print odd numbers in a List?\n"
   ]
  },
  {
   "cell_type": "code",
   "execution_count": 24,
   "id": "narrative-intervention",
   "metadata": {},
   "outputs": [
    {
     "name": "stdout",
     "output_type": "stream",
     "text": [
      "1\n",
      "3\n",
      "25\n",
      "45\n",
      "67\n",
      "43\n",
      "21\n"
     ]
    }
   ],
   "source": [
    "list=[10,40,30,50,1,2,3,4,25,45,56,67,43,21]\n",
    "for i in list:\n",
    "    if i%2!=0:\n",
    "        print(i)"
   ]
  },
  {
   "cell_type": "markdown",
   "id": "later-arkansas",
   "metadata": {},
   "source": [
    "## 9.\tWrite a Python program to Remove empty List from List?\n"
   ]
  },
  {
   "cell_type": "code",
   "execution_count": 13,
   "id": "complex-identity",
   "metadata": {},
   "outputs": [
    {
     "name": "stdout",
     "output_type": "stream",
     "text": [
      "[1, [2, 3, 4, 5], [2, 3]]\n"
     ]
    }
   ],
   "source": [
    "lis=[1,[],[2,3,4,5],[],[2,3],[]]\n",
    "dummy=[]\n",
    "for i in range(0,len(lis)):\n",
    "    if type(lis[i])==list:\n",
    "        if len(lis[i])!=0:\n",
    "            dummy.append(lis[i])\n",
    "    else:\n",
    "        dummy.append(lis[i])\n",
    "lis=dummy\n",
    "print(lis)\n",
    "            "
   ]
  },
  {
   "cell_type": "markdown",
   "id": "several-yemen",
   "metadata": {},
   "source": [
    "## 10.\tWrite a Python program to Cloning or Copying a list?\n"
   ]
  },
  {
   "cell_type": "code",
   "execution_count": 14,
   "id": "noted-treat",
   "metadata": {},
   "outputs": [
    {
     "name": "stdout",
     "output_type": "stream",
     "text": [
      "[1, 2, 3, 4]\n"
     ]
    }
   ],
   "source": [
    "lis=[1,2,3,4]\n",
    "dummy=lis\n",
    "print(dummy)"
   ]
  },
  {
   "cell_type": "markdown",
   "id": "registered-thanksgiving",
   "metadata": {},
   "source": [
    "## 11.\tWrite a Python program to Count occurrences of an element in a list?\n"
   ]
  },
  {
   "cell_type": "code",
   "execution_count": 18,
   "id": "operational-stake",
   "metadata": {},
   "outputs": [
    {
     "data": {
      "text/plain": [
       "4"
      ]
     },
     "execution_count": 18,
     "metadata": {},
     "output_type": "execute_result"
    }
   ],
   "source": [
    "l=[1,2,3,1,1,1,2,2,3,4,4,4]\n",
    "element  = 1\n",
    "l.count(1)\n"
   ]
  }
 ],
 "metadata": {
  "kernelspec": {
   "display_name": "Python 3",
   "language": "python",
   "name": "python3"
  },
  "language_info": {
   "codemirror_mode": {
    "name": "ipython",
    "version": 3
   },
   "file_extension": ".py",
   "mimetype": "text/x-python",
   "name": "python",
   "nbconvert_exporter": "python",
   "pygments_lexer": "ipython3",
   "version": "3.7.9"
  }
 },
 "nbformat": 4,
 "nbformat_minor": 5
}
